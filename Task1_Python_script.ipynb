{
 "cells": [
  {
   "cell_type": "code",
   "execution_count": null,
   "id": "c8872946",
   "metadata": {},
   "outputs": [],
   "source": [
    "# Python script to scrape an article given the url of the article and store the extracted text in a file\n",
    "# Url: https://medium.com/@subashgandyer/papa-what-is-a-neural-network-c5e5cc427c7\n",
    "import re\n",
    "import sys\n",
    "import os\n",
    "import requests\n",
    "from bs4 import BeautifulSoup"
   ]
  },
  {
   "cell_type": "code",
   "execution_count": null,
   "id": "23385ff6",
   "metadata": {},
   "outputs": [],
   "source": []
  },
  {
   "cell_type": "code",
   "execution_count": null,
   "id": "21a2500c",
   "metadata": {},
   "outputs": [],
   "source": [
    "# Parse badly formed HTML\n",
    "html_data = \"<p>Some<b>bad<i>HTML\"\n",
    "soup = BeautifulSoup(html_data, \"html.parser\")"
   ]
  },
  {
   "cell_type": "code",
   "execution_count": null,
   "id": "7227a05a",
   "metadata": {},
   "outputs": [],
   "source": [
    "print(\"Prettified HTML:\")\n",
    "print(soup.prettify())"
   ]
  },
  {
   "cell_type": "code",
   "execution_count": null,
   "id": "4e119fd4",
   "metadata": {},
   "outputs": [],
   "source": [
    "# Access specific elements\n",
    "print(\"\\nFind string 'bad':\")\n",
    "print(soup.find(string=\"bad\"))"
   ]
  },
  {
   "cell_type": "code",
   "execution_count": null,
   "id": "7b885018",
   "metadata": {},
   "outputs": [],
   "source": [
    "print(\"\\nAccess <i> tag:\")\n",
    "print(soup.i)"
   ]
  },
  {
   "cell_type": "code",
   "execution_count": null,
   "id": "03324b43",
   "metadata": {},
   "outputs": [],
   "source": [
    "# Parse badly formed XML\n",
    "xml_data = \"<tag1>Some<tag2/>bad<tag3>XML\"\n",
    "soup_xml = BeautifulSoup(xml_data, \"xml\")"
   ]
  },
  {
   "cell_type": "code",
   "execution_count": null,
   "id": "9989394b",
   "metadata": {},
   "outputs": [],
   "source": [
    "print(\"\\nPrettified XML:\")\n",
    "print(soup_xml.prettify())"
   ]
  },
  {
   "cell_type": "markdown",
   "id": "ff4ee5ca",
   "metadata": {},
   "source": [
    "Code ends here"
   ]
  },
  {
   "cell_type": "code",
   "execution_count": null,
   "id": "bf156e29",
   "metadata": {
    "lines_to_next_cell": 1
   },
   "outputs": [],
   "source": [
    "# function to get the html source text of the medium article\n",
    "def get_page():\n",
    "\tglobal url \n",
    "\t\n",
    "\t# Code here - Ask the user to input \"Enter url of a medium article: \" and collect it in url\n",
    "\turl = input(\"Enter url of a medium article:\").strip()\n",
    "\t# Code ends here\n",
    "\t\n",
    "\t# handling possible error\n",
    "\tif not re.match(r'https://www.crummy.com/software/BeautifulSoup/bs4/doc/',url):\n",
    "\t\tprint('Please enter a valid website, or make sure it is a medium article')\n",
    "\t\tsys.exit(1)\n",
    "\n",
    "\t# Code here - Call get method in requests object, pass url and collect it in res\n",
    "\tres = requests.get(url)\n",
    "\n",
    "\t# Code ends here\n",
    "\tres.raise_for_status()\n",
    "\tsoup = BeautifulSoup(res.text, 'html.parser')\n",
    "\treturn soup"
   ]
  },
  {
   "cell_type": "code",
   "execution_count": null,
   "id": "89c700ca",
   "metadata": {},
   "outputs": [],
   "source": [
    "# function to remove all the html tags and replace some with specific strings\n",
    "def clean(text):\n",
    "    rep = {\"<br>\": \"\\n\", \"<br/>\": \"\\n\", \"<li>\":  \"\\n\"}\n",
    "    rep = dict((re.escape(k), v) for k, v in rep.items()) \n",
    "    pattern = re.compile(\"|\".join(rep.keys()))\n",
    "    text = pattern.sub(lambda m: rep[re.escape(m.group(0))], text)\n",
    "    text = re.sub('\\<(.*?)\\>', '', text)\n",
    "    return text"
   ]
  },
  {
   "cell_type": "code",
   "execution_count": null,
   "id": "a583f7d8",
   "metadata": {
    "lines_to_next_cell": 1
   },
   "outputs": [],
   "source": [
    "def collect_text(soup):\n",
    "\ttext = f'url: {url}\\n\\n'\n",
    "\tpara_text = soup.find_all('p')\n",
    "\tprint(f\"paragraphs text = \\n {para_text}\")\n",
    "\tfor para in para_text:\n",
    "\t\ttext += f\"{para.text}\\n\\n\"\n",
    "\treturn text"
   ]
  },
  {
   "cell_type": "code",
   "execution_count": null,
   "id": "d6340148",
   "metadata": {
    "lines_to_next_cell": 2
   },
   "outputs": [],
   "source": [
    "# function to save file in the current directory\n",
    "def save_file(text):\n",
    "\tif not os.path.exists('./scraped_articles'):\n",
    "\t\tos.mkdir('./scraped_articles')\n",
    "\tname = url.split(\"/\")[-1]\n",
    "\tprint(name)\n",
    "\tfname = f'scraped_articles/{name}.txt'\n",
    "\t\n",
    "\t# Code here - write a file using with (2 lines)\n",
    "\twith open(fname, 'w', encoding='utf-8') as f:\n",
    "\t\tf.write(text)\n",
    "\n",
    "\t# Code ends here\n",
    "\n",
    "\tprint(f'File saved in directory {fname}')"
   ]
  },
  {
   "cell_type": "code",
   "execution_count": null,
   "id": "d1f63237",
   "metadata": {},
   "outputs": [],
   "source": [
    "if __name__ == '__main__':\n",
    "\ttext = collect_text(get_page())\n",
    "\tsave_file(text)\n",
    "\t# Instructions to Run this python code\n",
    "\n",
    "\t# Give url as https://medium.com/@subashgandyer/papa-what-is-a-neural-network-c5e5cc427c7\n",
    "\t#https://www.crummy.com/software/BeautifulSoup/bs4/doc/"
   ]
  }
 ],
 "metadata": {
  "jupytext": {
   "cell_metadata_filter": "-all",
   "main_language": "python",
   "notebook_metadata_filter": "-all"
  }
 },
 "nbformat": 4,
 "nbformat_minor": 5
}
